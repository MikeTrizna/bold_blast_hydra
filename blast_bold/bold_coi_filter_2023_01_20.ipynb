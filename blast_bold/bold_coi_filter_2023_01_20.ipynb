{
 "cells": [
  {
   "cell_type": "code",
   "execution_count": 1,
   "id": "41213897-2bc5-4827-8c04-83d73960e7ff",
   "metadata": {},
   "outputs": [],
   "source": [
    "import numpy as np\n",
    "from itertools import groupby"
   ]
  },
  {
   "cell_type": "code",
   "execution_count": 2,
   "id": "3ee13fc1-fc52-4917-af7f-3185ec79d6e5",
   "metadata": {},
   "outputs": [],
   "source": [
    "def fasta_iter(fasta_file):\n",
    "    \"\"\"Takes a FASTA file, and produces a generator of Header and Sequences.\n",
    "    This is a memory-efficient way of analyzing a FASTA files -- without\n",
    "    reading the entire file into memory.\n",
    "    Parameters\n",
    "    ----------\n",
    "    fasta_file : str\n",
    "        The file location of the FASTA file\n",
    "    Returns\n",
    "    -------\n",
    "    header: str\n",
    "        The string contained in the header portion of the sequence record\n",
    "        (everything after the '>')\n",
    "    seq: str\n",
    "        The sequence portion of the sequence record\n",
    "    \"\"\"\n",
    "\n",
    "    fh = open(fasta_file)\n",
    "    fa_iter = (x[1] for x in groupby(fh, lambda line: line[0] == \">\"))\n",
    "    for header in fa_iter:\n",
    "        # drop the \">\"\n",
    "        header = next(header)[1:].strip()\n",
    "        # join all sequence lines to one.\n",
    "        seq = \"\".join(s.upper().strip() for s in next(fa_iter))\n",
    "        yield header, seq\n"
   ]
  },
  {
   "cell_type": "code",
   "execution_count": 3,
   "id": "3339d22f-a45e-4dba-8893-fa47356e7191",
   "metadata": {},
   "outputs": [
    {
     "name": "stdout",
     "output_type": "stream",
     "text": [
      "9227254 9227254\n"
     ]
    }
   ],
   "source": [
    "all_headers = []\n",
    "all_seqs = []\n",
    "for header, seq in fasta_iter('bold_2023_01_20.fasta'):\n",
    "    all_headers.append(header)\n",
    "    all_seqs.append(seq)\n",
    "print(len(all_headers), len(all_seqs))"
   ]
  },
  {
   "cell_type": "code",
   "execution_count": 4,
   "id": "aac8699f-a07d-4ba8-94b8-0fa968096ef0",
   "metadata": {},
   "outputs": [
    {
     "data": {
      "text/plain": [
       "{'COI-5P': 8193116,\n",
       " '16S': 19339,\n",
       " '16S-ND2': 167,\n",
       " 'ND6-ND3': 168,\n",
       " 'COII-COI': 171,\n",
       " 'ND4L-MSH': 124,\n",
       " '18S': 5262,\n",
       " 'COI-3P': 180265,\n",
       " 'ITS2': 121075,\n",
       " 'rbcL': 102334,\n",
       " 'matK': 121401,\n",
       " 'ITS': 235852,\n",
       " 'DBY-EX7-8': 393,\n",
       " 'RAG2': 226,\n",
       " 'e-gene': 999,\n",
       " 'rbcL-like': 42,\n",
       " 'rbcLa': 73265,\n",
       " 'matK-like': 45,\n",
       " 'tufA': 1017,\n",
       " '28S': 11855,\n",
       " 'FL-COI': 31,\n",
       " 'CYTB': 14747,\n",
       " 'PSBA': 532,\n",
       " '28S-D2': 5709,\n",
       " 'UPA': 1043,\n",
       " 'psbC': 65,\n",
       " 'COII-COIII': 46,\n",
       " 'EF2': 64,\n",
       " 'PSA': 154,\n",
       " 'psaB': 14,\n",
       " 'RBCL-5P': 1,\n",
       " '28S-D3-D5': 141,\n",
       " '28S-D1-D2': 435,\n",
       " '12S': 4723,\n",
       " 'trnD-trnY-trnE': 192,\n",
       " 'trnH-psbA': 12732,\n",
       " 'ycf1': 415,\n",
       " 'EF1-alpha': 3230,\n",
       " 'COI-NUMT': 88,\n",
       " 'H3': 2000,\n",
       " 'TPI': 202,\n",
       " 'CAD4': 484,\n",
       " 'AATS': 320,\n",
       " 'CAD': 1373,\n",
       " 'PGD': 441,\n",
       " 'CsIV': 65,\n",
       " 'HfIV': 21,\n",
       " 'Rho': 1822,\n",
       " 'COII': 10467,\n",
       " 'nucLSU': 113,\n",
       " '28S-D2-D3': 678,\n",
       " '18S-3P': 8183,\n",
       " 'D-loop': 3290,\n",
       " 'RAG1': 186,\n",
       " 'ND1': 5958,\n",
       " 'trnL-F': 4496,\n",
       " 'Wnt1': 2183,\n",
       " 'COI-LIKE': 964,\n",
       " 'LWRHO': 188,\n",
       " 'COXIII': 9223,\n",
       " 'hcpA': 1035,\n",
       " 'WSP': 258,\n",
       " 'EF1-alpha-5P': 9,\n",
       " '28S-D3': 261,\n",
       " 'H3-NUMT': 91,\n",
       " 'CYTB-NUMT': 86,\n",
       " 'atpB-rbcL': 95,\n",
       " 'S7': 53,\n",
       " '28S-D9-D10': 250,\n",
       " 'RPB1': 1,\n",
       " 'RPB2': 95,\n",
       " 'ND2': 6273,\n",
       " 'ITS1': 6000,\n",
       " 'TYR': 61,\n",
       " 'DYN': 92,\n",
       " 'VDAC': 99,\n",
       " 'COI-5PNMT1': 28,\n",
       " '18S-V4': 279,\n",
       " 'atp6': 3737,\n",
       " 'atpF-atpH': 1187,\n",
       " 'rpoC1': 1088,\n",
       " 'psbK-psbI': 871,\n",
       " 'rpoB': 798,\n",
       " 'ATP1A': 56,\n",
       " 'CHOLC': 101,\n",
       " 'CAD1': 30,\n",
       " 'PsbA-like': 139,\n",
       " 'EPRS': 67,\n",
       " 'GAPDH': 395,\n",
       " 'RpS4-trnS': 24,\n",
       " 'CADH': 120,\n",
       " 'ArgK': 227,\n",
       " 'DDX23': 17,\n",
       " 'PKD1': 2,\n",
       " 'TMO-4C4': 2,\n",
       " 'RpS5': 353,\n",
       " 'RNF213': 137,\n",
       " 'PLAGL2': 53,\n",
       " 'MB2-EX2-3': 132,\n",
       " 'CHD-Z': 117,\n",
       " 'MC1R': 132,\n",
       " 'AOX-fmt': 81,\n",
       " 'COI-PSEUDO': 1921,\n",
       " 'RPL37': 1,\n",
       " 'ND4': 5867,\n",
       " 'IDH': 166,\n",
       " 'MDH': 223,\n",
       " 'RpS2': 154,\n",
       " 'ND3': 5868,\n",
       " 'ND6': 5843,\n",
       " 'ND5-0': 5868,\n",
       " 'ND4L': 5863,\n",
       " 'trnL': 608,\n",
       " 'ADR': 98,\n",
       " '5-8S': 3459,\n",
       " 'NBC-COI-5P': 77,\n",
       " 'trnK': 72,\n",
       " 'coxA': 62,\n",
       " 'ftsZ': 15,\n",
       " 'R35': 20,\n",
       " 'NGFB': 16,\n",
       " 'IRBP': 15,\n",
       " 'fbpA': 1079,\n",
       " 'ENO': 107,\n",
       " 'PER': 44,\n",
       " 'DDC': 24,\n",
       " 'atp6-atp8': 94,\n",
       " 'psbA-3P': 47,\n",
       " 'COI-5PNMT2': 1,\n",
       " 'petD-intron': 55,\n",
       " 'matK-trnK': 55,\n",
       " '28S-D7': 6,\n",
       " 'MutS-like': 25,\n",
       " 'PY-IGS': 10,\n",
       " 'rpL32-trnL': 10,\n",
       " 'ETS-1': 74,\n",
       " 'cp-RPS16-intron': 29,\n",
       " 'CK1': 19,\n",
       " 'RBM15': 20,\n",
       " 'TULP': 17,\n",
       " 'ntcA': 10,\n",
       " 'Beta-tubulin': 1,\n",
       " 'H4': 175,\n",
       " 'matR': 69}"
      ]
     },
     "execution_count": 4,
     "metadata": {},
     "output_type": "execute_result"
    }
   ],
   "source": [
    "gene_counts = {}\n",
    "for header in all_headers:\n",
    "    header_split = header.split('|')\n",
    "    gene = header_split[1]\n",
    "    if gene in gene_counts:\n",
    "        gene_counts[gene] += 1\n",
    "    else:\n",
    "        gene_counts[gene] = 1\n",
    "gene_counts"
   ]
  },
  {
   "cell_type": "code",
   "execution_count": 5,
   "id": "4074ec70-0cf3-4e88-84f7-aa9c4b5fc5f2",
   "metadata": {},
   "outputs": [
    {
     "name": "stdout",
     "output_type": "stream",
     "text": [
      "8193116 8193116\n"
     ]
    }
   ],
   "source": [
    "coi_processids = []\n",
    "for header in all_headers:\n",
    "    header_split = header.split('|')\n",
    "    if header_split[1] == 'COI-5P':\n",
    "        coi_processids.append(header_split[0])\n",
    "print(len(coi_processids), len(set(coi_processids)))"
   ]
  },
  {
   "cell_type": "markdown",
   "id": "145501df-1402-4fc8-bdae-2694060e9e84",
   "metadata": {},
   "source": [
    "Ok, so this means that all COI process ids are unique"
   ]
  },
  {
   "cell_type": "code",
   "execution_count": 6,
   "id": "ededbc4a-06d8-4df8-913f-3a38a47baa4c",
   "metadata": {},
   "outputs": [
    {
     "name": "stdout",
     "output_type": "stream",
     "text": [
      "8193116 8193116\n"
     ]
    }
   ],
   "source": [
    "coi_processids = []\n",
    "coi_sequences = []\n",
    "for idx, header in enumerate(all_headers):\n",
    "    header_split = header.split('|')\n",
    "    if header_split[1] == 'COI-5P':\n",
    "        coi_processids.append(header_split[0])\n",
    "        coi_sequences.append(all_seqs[idx])\n",
    "print(len(coi_processids), len(coi_sequences))"
   ]
  },
  {
   "cell_type": "code",
   "execution_count": 8,
   "id": "53984684-9361-43c7-a316-6a78be2c2223",
   "metadata": {},
   "outputs": [],
   "source": [
    "with open('bold_coi_2023_01_20.fasta', 'w') as fasta_out:\n",
    "    for (coi_id, coi_seq) in zip(coi_processids, coi_sequences):\n",
    "        fasta_out.write(f\">{coi_id}\\n{coi_seq}\\n\")"
   ]
  },
  {
   "cell_type": "code",
   "execution_count": null,
   "id": "5fd3d1ce-b2b9-4434-b2d0-7b69ffc35ad5",
   "metadata": {},
   "outputs": [],
   "source": []
  }
 ],
 "metadata": {
  "kernelspec": {
   "display_name": "Python 3 (ipykernel)",
   "language": "python",
   "name": "python3"
  },
  "language_info": {
   "codemirror_mode": {
    "name": "ipython",
    "version": 3
   },
   "file_extension": ".py",
   "mimetype": "text/x-python",
   "name": "python",
   "nbconvert_exporter": "python",
   "pygments_lexer": "ipython3",
   "version": "3.10.6"
  }
 },
 "nbformat": 4,
 "nbformat_minor": 5
}
